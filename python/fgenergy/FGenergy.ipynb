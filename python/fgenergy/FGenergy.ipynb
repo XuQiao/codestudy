{
 "cells": [
  {
   "cell_type": "code",
   "execution_count": 20,
   "metadata": {},
   "outputs": [],
   "source": [
    "from selenium import webdriver\n",
    "from pyvirtualdisplay import Display\n",
    "from time import sleep\n",
    "import getpass"
   ]
  },
  {
   "cell_type": "code",
   "execution_count": 34,
   "metadata": {},
   "outputs": [],
   "source": [
    "from selenium.webdriver.support.ui import WebDriverWait\n",
    "from selenium.webdriver.support import expected_conditions as EC\n",
    "from selenium.webdriver.common.by import By\n",
    "\n",
    "class FGEnergySpider():\n",
    "    def __init__(self):\n",
    "        self.base_url = 'https://www.fgenergy.com/'\n",
    "        self.userid = 'a'\n",
    "        self.password = 'b'\n",
    "\n",
    "    # Start chromedrive\n",
    "    def start_driver(self):\n",
    "        print('starting driver...')\n",
    "        self.display = Display(visible=0, size=(1620, 1080))\n",
    "        self.display.start()\n",
    "        opts = webdriver.ChromeOptions()\n",
    "        opts.add_argument('--user-data-dir=/tmp')\n",
    "        opts.add_argument('--disable-web-security')\n",
    "        opts.add_argument('--disable-extensions')\n",
    "        opts.add_argument('--incognito')\n",
    "#        opts.add_argument('--headless')\n",
    "        opts.add_argument('--disable-gpu')\n",
    "        opts.add_argument('--no-sandbox')\n",
    "#        opts.binary_location = '/Users/qiaoxu/Downloads/google-chrome-stable'\n",
    "#        opts.binary_location = '/mnt/c/Program Files (x86)/Google/Chrome/Application/chrome.exe'\n",
    "        self.driver = webdriver.Chrome(executable_path = '/usr/local/bin/chromedriver',options=opts)\n",
    "#        self.driver = webdriver.Firefox(executable_path = '/usr/local/bin/geckodriver')\n",
    "        sleep(1)\n",
    "\n",
    "    # Close chromedriver\n",
    "    def close_driver(self):\n",
    "        print('closing driver...')\n",
    "        self.display.stop()\n",
    "        #self.driver.quit()\n",
    "        try:\n",
    "            self.driver.close()\n",
    "            print('closed!')\n",
    "        except Exception:\n",
    "            print('not able to close!')\n",
    "\n",
    "    # Tell the browser to get a page    \n",
    "    def get_page(self, keyworddict):\n",
    "        print('getting page with url: ' + url)\n",
    "        self.driver.get(url)\n",
    "        sleep(3)\n",
    "        self.islogin = False\n",
    "        self.relogin = 0\n",
    "        while not self.islogin and self.relogin < 10:\n",
    "            try:\n",
    "                #element = self.driver.find_element_by_xpath('''//*[@id=\"profile-nav-item\"]''')\n",
    "                element = self.driver.find_element_by_xpath('//*[@id=\"nav-settings__dropdown-trigger\"]/img')\n",
    "                self.islogin = True\n",
    "            except NoSuchElementException:\n",
    "                self.islogin = False\n",
    "                self.login()\n",
    "                self.relogin = self.relogin + 1\n",
    "        if self.islogin:\n",
    "            print(\"logined\")\n",
    "        if self.relogin >= 10:\n",
    "            print(\"problem with login\")\n",
    "            sys.exit(0)\n",
    "        \n",
    "    # Login page\n",
    "    def login(self):\n",
    "        self.driver.get(self.base_url)\n",
    "        print(self.driver.window_handles,self.driver.current_url,'login')\n",
    "        self.driver.find_element_by_xpath('''//*[@id=\"primary-menu\"]/ul/li[8]/a''').click()\n",
    "        print('Not login, Please enter login credentials:')\n",
    "        if self.userid == '':\n",
    "            self.userid = str(input(\"Enter your username\"))\n",
    "        if self.password == '':\n",
    "            self.password = getpass.getpass('Enter your password:')\n",
    "        try:\n",
    "            loginbutton = self.driver.find_element_by_xpath('''//*[@id=\"ContentPlaceHolderDefault_MemberLogin_NEW_2_m_login_LoginButton\"]''')\n",
    "        except NoSuchElementException:\n",
    "            print(\"Cannot find such login button\")\n",
    "        print('getting pass the gate page...')\n",
    "        self.driver.find_element_by_xpath(\"\"\"//*[@id=\"ContentPlaceHolderDefault_MemberLogin_NEW_2_m_login_UserName\"]\"\"\").send_keys(self.userid)\n",
    "        self.driver.find_element_by_xpath(\"\"\"//*[@id=\"ContentPlaceHolderDefault_MemberLogin_NEW_2_m_login_Password\"]\"\"\").send_keys(self.password)\n",
    "        button = WebDriverWait(self.driver, 1000).until(EC.element_to_be_clickable((By.XPATH, '''//*[@id=\"ContentPlaceHolderDefault_MemberLogin_NEW_2_m_login_LoginButton\"]''')))\n",
    "        button.click()\n",
    "        #self.driver.find_element_by_xpath('''//*[@id=\"ContentPlaceHolderDefault_MemberLogin_NEW_2_m_login_LoginButton\"]''').click()\n",
    "        self.driver.implicitly_wait(0.5)\n",
    "        sleep(0.5)\n",
    "        try:\n",
    "            error = self.driver.find_element_by_xpath('''//*[@id=\"divLoginWindow\"]/p''')\n",
    "        except NoSuchElementException:\n",
    "            print(\"Cannot find such login button\")\n",
    "        print(error.text, \"login button successfully clicked\")"
   ]
  },
  {
   "cell_type": "code",
   "execution_count": 35,
   "metadata": {},
   "outputs": [
    {
     "name": "stdout",
     "output_type": "stream",
     "text": [
      "starting driver...\n",
      "['CDwindow-B69B469E84BA116AB3D06479E8D83023'] https://www.fgenergy.com/ login\n",
      "Not login, Please enter login credentials:\n",
      "getting pass the gate page...\n",
      "Your login attempt was not successful. Please try again.\n",
      "You must enter a valid email address. login button successfully clicked\n"
     ]
    }
   ],
   "source": [
    "spider = FGEnergySpider()\n",
    "spider.start_driver()\n",
    "spider.login()"
   ]
  },
  {
   "cell_type": "code",
   "execution_count": null,
   "metadata": {},
   "outputs": [],
   "source": []
  }
 ],
 "metadata": {
  "kernelspec": {
   "display_name": "Python 2",
   "language": "python",
   "name": "python2"
  },
  "language_info": {
   "codemirror_mode": {
    "name": "ipython",
    "version": 3
   },
   "file_extension": ".py",
   "mimetype": "text/x-python",
   "name": "python",
   "nbconvert_exporter": "python",
   "pygments_lexer": "ipython3",
   "version": "3.6.5"
  }
 },
 "nbformat": 4,
 "nbformat_minor": 2
}
