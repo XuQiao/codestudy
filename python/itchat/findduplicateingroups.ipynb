{
 "cells": [
  {
   "cell_type": "code",
   "execution_count": 1,
   "metadata": {
    "scrolled": true
   },
   "outputs": [
    {
     "name": "stdout",
     "output_type": "stream",
     "text": [
      "█\r"
     ]
    }
   ],
   "source": [
    "#coding=utf-8\n",
    "import itchat, time, random\n",
    "import pandas as pd\n",
    "\n",
    "# get the chatroom object from its name\n",
    "def get_chatroom(chatroomUserName = '1234567'):\n",
    "#    itchat.get_chatrooms(update=True)\n",
    "    chatrooms = itchat.search_chatrooms(chatroomUserName);\n",
    "    if chatrooms:\n",
    "        return chatrooms[0]\n",
    "    else:\n",
    "        print(\"Cannot find the chatroom: \"+ chatroomUserName)\n",
    "        return None"
   ]
  },
  {
   "cell_type": "code",
   "execution_count": 2,
   "metadata": {},
   "outputs": [],
   "source": [
    "# find all user username in one chatroom\n",
    "def get_allusers(chatroom):\n",
    "    chatroom = itchat.update_chatroom(chatroom['UserName'])\n",
    "    users = []\n",
    "    for friend in chatroom['MemberList']:\n",
    "        #userName=friend['UserName']\n",
    "        #nickname = friend['DisplayName'] or friend['NickName']\n",
    "        users.append(friend)\n",
    "    print(\"there are %d people in %s\" % (len(users), chatroom['NickName']))\n",
    "    return users"
   ]
  },
  {
   "cell_type": "code",
   "execution_count": 9,
   "metadata": {},
   "outputs": [],
   "source": [
    "# find the common ones in chatrooms\n",
    "def findduplicateingroups(chatroomnames):\n",
    "    chatrooms = [get_chatroom(chatroomname) for chatroomname in chatroomnames]\n",
    "    #userss = [get_allusers(chatroom) for chatroom in chatrooms]\n",
    "    #dups = set.intersection(*[set([user['UserName'] for user in users]) for users in userss])\n",
    "    #print(\"there are %d duplicates\" % len(dups))\n",
    "    user_counts = {}\n",
    "    for chatroom in chatrooms:\n",
    "        users = get_allusers(chatroom)\n",
    "        chatroomname = chatroom['NickName']\n",
    "        for user in users:\n",
    "            username = user['UserName']\n",
    "            nickname = user['DisplayName'] or user['NickName']\n",
    "            if not username in user_counts:\n",
    "                user_counts[username] = {}\n",
    "            user_counts[username][chatroomname] = nickname\n",
    "            user_counts[username]['counts'] = user_counts[username].get('counts',0)+1;\n",
    "    #print(user_counts)\n",
    "    df = pd.DataFrame.from_dict(user_counts,orient='index',columns=chatroomnames+['counts'])\n",
    "    df = df.sort_values(by=['counts'],ascending=False)\n",
    "    df.to_csv(\"wechatgroupduplicate.csv\")"
   ]
  },
  {
   "cell_type": "code",
   "execution_count": 12,
   "metadata": {},
   "outputs": [
    {
     "name": "stdout",
     "output_type": "stream",
     "text": [
      "there are 500 people in 琪石朋友圈\n",
      "there are 35 people in 琪石波斯顿朋友圈\n",
      "there are 408 people in 琪石第二朋友圈\n",
      "there are 53 people in 琪石加州朋友圈\n",
      "there are 50 people in 琪石芝加哥朋友圈\n",
      "there are 178 people in 琪石中国总部群\n"
     ]
    }
   ],
   "source": [
    "#itchat.logout()\n",
    "itchat.auto_login(enableCmdQR=0, hotReload=True)\n",
    "chatroomnames = [\"琪石朋友圈\",\"琪石波斯顿朋友圈\",\"琪石第二朋友圈\",\"琪石加州朋友圈\",\"琪石芝加哥朋友圈\",\"琪石中国总部群\"]\n",
    "findduplicateingroups(chatroomnames)"
   ]
  },
  {
   "cell_type": "code",
   "execution_count": null,
   "metadata": {},
   "outputs": [],
   "source": []
  }
 ],
 "metadata": {
  "kernelspec": {
   "display_name": "Python 3",
   "language": "python",
   "name": "python3"
  },
  "language_info": {
   "codemirror_mode": {
    "name": "ipython",
    "version": 3
   },
   "file_extension": ".py",
   "mimetype": "text/x-python",
   "name": "python",
   "nbconvert_exporter": "python",
   "pygments_lexer": "ipython3",
   "version": "3.6.5"
  }
 },
 "nbformat": 4,
 "nbformat_minor": 2
}
